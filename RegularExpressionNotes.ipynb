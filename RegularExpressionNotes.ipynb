{
 "cells": [
  {
   "attachments": {},
   "cell_type": "markdown",
   "metadata": {},
   "source": [
    "# Regular Expressions \n",
    "***"
   ]
  },
  {
   "attachments": {},
   "cell_type": "markdown",
   "metadata": {},
   "source": [
    "**Metacharacters:** "
   ]
  },
  {
   "attachments": {},
   "cell_type": "markdown",
   "metadata": {},
   "source": [
    "- '.'- Any character except newline\n",
    "- '\\d'- A digit (0-9)\n",
    "- '\\D'- Everything that is not a digit(0-9)\n",
    "- '\\w'- Word charcter (a-z, A-Z, 0-9, underscore)\n",
    "- '\\W'- Everything that is not a word character\n",
    "- '\\s'- Whitespace (space, tab, newline)\n",
    "- '\\S'- Everything that is not a whitespace\n",
    "- '\\b'- Word boundary (whitespace, or special charater before the word)\n",
    "- '\\B'- Every word that doesnt have a word boundary\n",
    "- '^'- Only the givin chararter when it starts at the beginnig of a string\n",
    "- '$'- Only the givin charcter when it is at the end of a string\n"
   ]
  },
  {
   "attachments": {},
   "cell_type": "markdown",
   "metadata": {},
   "source": [
    "**Quantifiers**\n",
    "- '*'- 0 or more \n",
    "- '+'- 1 or more \n",
    "- '?'- 0 or 1\n",
    "- '{3}'- Exact number\n",
    "- '{3, 4}'- Range of numbers (minimum, maximum)"
   ]
  },
  {
   "attachments": {},
   "cell_type": "markdown",
   "metadata": {},
   "source": [
    "**Groups:** <br>\n",
    "- '()' <br>\n",
    "- when using groups you are able to use the group method to grab items in your regular expression. For example if you have a regular expression for a sentence you can grab the first word of the sentence. <br>\n",
    "Ex:\\<br>\n",
    "- pattern = re.compile(r'https?://(www\\.)? (\\w+)(\\.\\w+)') <br>\n",
    "- for match in matches:\n",
    "> > > print(match.group(2)) <br>\n",
    "- This prints out the name of the website such as google, amazon, youtube, rather than the entire url address"
   ]
  },
  {
   "attachments": {},
   "cell_type": "markdown",
   "metadata": {},
   "source": [
    "- subbed_urls = pattern.sub(r'\\2\\3', urls)\n",
    "- outputs the urls but only groups 2 and 3 or that pattern"
   ]
  },
  {
   "attachments": {},
   "cell_type": "markdown",
   "metadata": {},
   "source": [
    "Use: \"\\\\\" before metacharcter if you want to escape it <br>\n",
    "Meaning if the string you are looking for contains a metacharcter if you dont escape that metacharcter it thinks you are trying to use the metacharcter."
   ]
  },
  {
   "attachments": {},
   "cell_type": "markdown",
   "metadata": {},
   "source": [
    "**Compiling:** <br>\n",
    "re.compile(r'regular expression')"
   ]
  },
  {
   "attachments": {},
   "cell_type": "markdown",
   "metadata": {},
   "source": [
    "**Methods:** <br>\n",
    "1. match()\n",
    "2. findall() - Just returns the matches as a list of strings, and only matches groups if there is a group\n",
    "3. search() - prints out the first match it finds or none if none\n",
    "4. finditer() - Finds all matches and location of the matches, creates match object\n",
    "5. match() - Just returns the first match and nothing else or nothing if there is no match"
   ]
  },
  {
   "attachments": {},
   "cell_type": "markdown",
   "metadata": {},
   "source": [
    "**Flags:** <br>\n",
    "- pattern = re.compile(r'start', re.IGNORECASE)\n",
    "- "
   ]
  },
  {
   "attachments": {},
   "cell_type": "markdown",
   "metadata": {},
   "source": [
    "**Example:** This only identifies strings that are all uppercase and that start and end uppercase. Does not include a string that starts lowercase and ends lowercase<br>\n",
    "pattern = re.compile(\"^[A-Z]+$\") <br>\n",
    "print(pattern.search(document))\n"
   ]
  },
  {
   "attachments": {},
   "cell_type": "markdown",
   "metadata": {},
   "source": [
    "**Example:** <br>\n",
    "variable_name = re.compile(r'regular expression) <br>\n",
    "matches = variable_name.finditer(doc) <br>\n",
    "for match in matches:\n",
    "print(match)"
   ]
  },
  {
   "attachments": {},
   "cell_type": "markdown",
   "metadata": {},
   "source": [
    "**Example 1:** <br>\n",
    "pattern01 = re.compile(r'regularexpression')<br>\n",
    "result = pattern01.match(text) <br>\n",
    "\n",
    "**Example 2:** <br>\n",
    "result = re.match(regularexpression, text)\n"
   ]
  },
  {
   "attachments": {},
   "cell_type": "markdown",
   "metadata": {},
   "source": [
    "**Paterns:**<br>\n",
    "1. Finds a string with 3 digits + any character + 3 digits + any character + 3 digits\n",
    "> - Pattern = re.compile(r'\\d\\d\\d.\\d\\d\\d.\\d\\d\\d.')\n",
    "2. Finds a string with 3 digits + a \".\" or a \"-\" + 3 digits + a \".\" or a \"-\" + 3 digits\n",
    "> - pattern = re.compile(r'\\d\\d\\d[-.]\\d\\d\\d[-.]\\d\\d\\d')\n",
    "3. Finds a string that starts with either a 8 or a 9 followed two 0s and the previous pattern\n",
    "> - pattern = re.compile(r'[89]00[-.]\\d\\d\\d[-.]\\d\\d\\d')\n",
    "4. Finds a string that is a number between the range of 1 to 5\n",
    "> - pattern = re.compile(r'[1-5]')\n",
    "5. Finds a string that is a lowercase letter between A and Z\n",
    "> - pattern = re.compile(r'[a-z]')\n",
    "6. Finds a string that is lowercase or uppercase letter between A and Z\n",
    "> - pattern = re.compile(r'[a-zA-Z]')\n",
    "7. Finds a string that is not a lowercase or uppercase letter between A and Z\n",
    "> - pattern = re.compile(r'[^a-zA-Z]')\n",
    "8. finds all strings that dont start with a b but have \"at\" in them or at the end\n",
    "> - pattern = re.compile(r'[^b]at')\n",
    "9.  Same pattern as pattern example 1\n",
    "> - pattern = re.compile(r'\\d{3}.\\d{3}.\\d{3})\n",
    "10. Finds a group of strings that starts with Mr. and contains another string that starts with a capital letter and has 0 or more characters after it.\n",
    "> - pattern - re.compile(r'Mr\\.?\\s[A-Z]\\w*')\n",
    "11.  Same as Pattern10 but uses grouping to say after the 'M' the strign can have a r or an s or an rs\n",
    "> - pattern = re.compile(r'M(r|s|rs)\\.?\\s[A-Z]\\w*')\n",
    "12. Finds a string that resembles a email address\n",
    "> - pattern = re.compile(r'[a-zA-Z]+@[a-zA-Z]+\\.com')\n",
    "13. Same as pattern 12 but matches .com or .edu\n",
    "> - pattern = re.compile(r'[a-zA-Z]+@[a-zA-Z]+\\.(com|edu))\n",
    "14. Same as pattern 13 but adds more diversity\n",
    "> - patterm = re.compile(r'[a-zA-Z0-9.-]+@[a-zA-Z]+\\.(com)|edu|net)')\n",
    "15. Find url addresses\n",
    "> - pattern = re.compile(r'https?://(www\\.)?(\\w+)(\\.\\w+)')"
   ]
  },
  {
   "attachments": {},
   "cell_type": "markdown",
   "metadata": {},
   "source": []
  }
 ],
 "metadata": {
  "kernelspec": {
   "display_name": "Test-venv",
   "language": "python",
   "name": "python3"
  },
  "language_info": {
   "name": "python",
   "version": "3.8.8"
  },
  "orig_nbformat": 4
 },
 "nbformat": 4,
 "nbformat_minor": 2
}
