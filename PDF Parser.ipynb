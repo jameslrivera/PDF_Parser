{
 "cells": [
  {
   "attachments": {},
   "cell_type": "markdown",
   "id": "1032737f",
   "metadata": {},
   "source": [
    "# PDF Parser\n",
    "\n",
    "***"
   ]
  },
  {
   "attachments": {},
   "cell_type": "markdown",
   "id": "195b0747",
   "metadata": {},
   "source": [
    "Takes a PDF document extracts the text, then filters out the text leaving only the nessesary information relating to the requirements in the docuement. Then formats the output and creates a excel file to store the information."
   ]
  },
  {
   "attachments": {},
   "cell_type": "markdown",
   "id": "95511630",
   "metadata": {},
   "source": [
    "## Background:\n",
    "1. There are two types of cells in this notebook, text cells that tell information and code cells that when run preform their designated task.\n",
    "2. To run a cell press the play button or click on the cell and press shift + enter. \n",
    "3. Commands that start with '!' are to be executed in terminal\n",
    "4. To run the cells you need to also select a kernel which can be which ever option you choose and if you dont have any options then you might need to download the nessesary extensions."
   ]
  },
  {
   "attachments": {},
   "cell_type": "markdown",
   "id": "9e62077b",
   "metadata": {},
   "source": [
    "## Step 1\n",
    "***"
   ]
  },
  {
   "attachments": {},
   "cell_type": "markdown",
   "id": "9653babb",
   "metadata": {},
   "source": [
    "Install pip:"
   ]
  },
  {
   "cell_type": "code",
   "execution_count": null,
   "id": "f1af9d6c",
   "metadata": {},
   "outputs": [],
   "source": [
    "!curl https://bootstrap.pypa.io/get-pip.py -o get-pip.py\n",
    "!python3 get-pip.py\n",
    "!where pip"
   ]
  },
  {
   "attachments": {},
   "cell_type": "markdown",
   "id": "0feb96f1",
   "metadata": {},
   "source": [
    "Set up virtural envoirnment and add libraries (To make sure we install the libraries in the directory that our project is in)"
   ]
  },
  {
   "cell_type": "code",
   "execution_count": null,
   "id": "7fa84291",
   "metadata": {},
   "outputs": [],
   "source": [
    "!cd Desktop\n",
    "!mkdir PDF_Parser\n",
    "!cd PDF_Parser\n",
    "!python -m venv Test-venv\n",
    "!source Test-venv/bin/activate"
   ]
  },
  {
   "attachments": {},
   "cell_type": "markdown",
   "id": "1488a052",
   "metadata": {},
   "source": [
    "Use: !where pip (to identify where you want to install jupyter) <br>\n",
    "Take desired path and add install jupyter <br>\n",
    "Ex: *!/Users/jamesrivera/Desktop/PDF_Parser/Test-venv/bin/pip install jupyter*"
   ]
  },
  {
   "attachments": {},
   "cell_type": "markdown",
   "id": "1f193fa8",
   "metadata": {},
   "source": [
    "To launch vscode: <br>\n",
    "    !code ."
   ]
  },
  {
   "attachments": {},
   "cell_type": "markdown",
   "id": "71ae88c7",
   "metadata": {},
   "source": [
    "To launch jupyter notebook: <br>\n",
    "!jupyter notebook"
   ]
  },
  {
   "attachments": {},
   "cell_type": "markdown",
   "id": "bae26e3b",
   "metadata": {},
   "source": [
    "To launch jupyter notebook from vs code: <br> \n",
    "shift + command + p"
   ]
  },
  {
   "attachments": {},
   "cell_type": "markdown",
   "id": "09de6cf6",
   "metadata": {},
   "source": [
    "Install nessesary Python libraries:\n",
    "1. Create install requirements txt file to store the install commands:\n"
   ]
  },
  {
   "cell_type": "code",
   "execution_count": null,
   "id": "2659c271",
   "metadata": {},
   "outputs": [],
   "source": [
    "!touch requirements.txt"
   ]
  },
  {
   "attachments": {},
   "cell_type": "markdown",
   "id": "2aabf317",
   "metadata": {},
   "source": [
    "Add the python lybraries to requirements.txt:\n",
    "1. pdfplumber\n",
    "2. pandas\n",
    "3. openpyxl\n"
   ]
  },
  {
   "attachments": {},
   "cell_type": "markdown",
   "id": "d0d05fa2",
   "metadata": {},
   "source": [
    "\n",
    "Install libraries:"
   ]
  },
  {
   "cell_type": "code",
   "execution_count": null,
   "id": "30725038",
   "metadata": {},
   "outputs": [],
   "source": [
    "!pip install -r requirements.txt"
   ]
  },
  {
   "attachments": {},
   "cell_type": "markdown",
   "id": "45a5456b",
   "metadata": {},
   "source": [
    "## Step 2\n",
    "***"
   ]
  },
  {
   "attachments": {},
   "cell_type": "markdown",
   "id": "11d7599d",
   "metadata": {},
   "source": [
    "Import libraries:\n",
    "1. **requests**: Allows us to send Http requests\n",
    "2. **pdfplumber**: Allows us to use the pdfplumber library\n",
    "3. **re**: Allows us to use regular expressions\n",
    "4. **pandas as pd**: allows to use the pandas library which we will refer to as \"pd\"\n",
    "4. **from collections import namedtuple**: Allows use to create named tuples.\n",
    "5. **openpyxl**: Allows to take our pandas data frame and export it to excel.\n",
    "6. **xlxswriter**: Allows us to edit a excel page in our program."
   ]
  },
  {
   "cell_type": "code",
   "execution_count": null,
   "id": "8e544d41-107e-4672-878f-776626c785ad",
   "metadata": {},
   "outputs": [],
   "source": [
    "import requests\n",
    "import pdfplumber\n",
    "import re\n",
    "import pandas as pd\n",
    "from collections import namedtuple\n",
    "import openpyxl\n",
    "import xlsxwriter"
   ]
  },
  {
   "attachments": {},
   "cell_type": "markdown",
   "id": "b9d36e18",
   "metadata": {},
   "source": [
    "## Step 3\n",
    "***"
   ]
  },
  {
   "attachments": {},
   "cell_type": "markdown",
   "id": "e92fe873",
   "metadata": {},
   "source": [
    "Grab the title and put it in a data frame:"
   ]
  },
  {
   "attachments": {},
   "cell_type": "markdown",
   "id": "a860b6b0",
   "metadata": {},
   "source": [
    "locate the document that you want to parse and store its path in a variable:"
   ]
  },
  {
   "cell_type": "code",
   "execution_count": null,
   "id": "08a6a23d",
   "metadata": {},
   "outputs": [],
   "source": [
    "doc = '/Users/jamesrivera/Downloads/34 21 70 Traction Power Facilities Installation Requirements (1).pdf'"
   ]
  },
  {
   "attachments": {},
   "cell_type": "markdown",
   "id": "70e8b0bd",
   "metadata": {},
   "source": [
    "Createing a tuple:"
   ]
  },
  {
   "cell_type": "code",
   "execution_count": null,
   "id": "69bfa0ec",
   "metadata": {},
   "outputs": [],
   "source": [
    "doc_name = \"Traction_Power_Facilities_Installation_Requirements\"\n",
    "TPFI_requirements = namedtuple(doc_name, 'section' 'title')"
   ]
  },
  {
   "attachments": {},
   "cell_type": "markdown",
   "id": "9d4dc8e0",
   "metadata": {},
   "source": [
    "Open pdf with pdfplumber and extract the first page of text:"
   ]
  },
  {
   "cell_type": "code",
   "execution_count": null,
   "id": "74a7cffb",
   "metadata": {},
   "outputs": [],
   "source": [
    "with pdfplumber.open(doc) as pdf:\n",
    "    page1 = pdf.pages[0]  \n",
    "    page1_text = page1.extract_text()\n",
    "    print(page1_text)\n",
    "    print(\"END OF PAGE ONE\")"
   ]
  },
  {
   "attachments": {},
   "cell_type": "markdown",
   "id": "2944fc25",
   "metadata": {},
   "source": [
    "Create a pattern to grab the doc title:"
   ]
  },
  {
   "cell_type": "code",
   "execution_count": null,
   "id": "bdaafc78",
   "metadata": {},
   "outputs": [],
   "source": [
    "pattern8 = re.compile(r'([A-Z]+\\s\\d+\\s+\\d+\\s+\\d+)([A-Z\\s]{52})')"
   ]
  },
  {
   "attachments": {},
   "cell_type": "markdown",
   "id": "81effa84",
   "metadata": {},
   "source": [
    "Grab the title:"
   ]
  },
  {
   "cell_type": "code",
   "execution_count": null,
   "id": "80dd3c4b",
   "metadata": {},
   "outputs": [],
   "source": [
    "\n",
    "found_first_match = False\n",
    "section_data = []\n",
    "\n",
    "for match in pattern8.finditer(page1_text):\n",
    "    if not found_first_match:\n",
    "        section = match.group(1)\n",
    "        title = match.group(2).strip()\n",
    "        section_data.append((section, title))\n",
    "        found_first_match = True"
   ]
  },
  {
   "attachments": {},
   "cell_type": "markdown",
   "id": "345f76a1",
   "metadata": {},
   "source": [
    "Create a data frame to store the tite:"
   ]
  },
  {
   "cell_type": "code",
   "execution_count": null,
   "id": "170a37ce",
   "metadata": {},
   "outputs": [],
   "source": [
    "df1 = pd.DataFrame(section_data, columns=[\"Doc Section Number\", \"Doc Title\"])"
   ]
  },
  {
   "attachments": {},
   "cell_type": "markdown",
   "id": "546de775",
   "metadata": {},
   "source": [
    "## Step 4\n",
    "***"
   ]
  },
  {
   "attachments": {},
   "cell_type": "markdown",
   "id": "39eee02a",
   "metadata": {},
   "source": [
    "Grab the section titles and section numbers as well as the requirements in them:"
   ]
  },
  {
   "cell_type": "code",
   "execution_count": null,
   "id": "3fdec492",
   "metadata": {},
   "outputs": [],
   "source": [
    "pattern = r'(\\d+\\.\\d+)\\s+([A-Z\\s]+)\\s*(.*?)\\s*(?=\\d+\\.\\d+|\\Z)'"
   ]
  },
  {
   "cell_type": "code",
   "execution_count": null,
   "id": "4fd70e7f",
   "metadata": {},
   "outputs": [],
   "source": [
    "all_sections = []\n",
    "with pdfplumber.open(doc) as pdf:\n",
    "    for page_number, page in enumerate(pdf.pages[2:], start=3):  # Start from page 3\n",
    "        text = page.extract_text()\n",
    "\n",
    "        # Find all matches in the text for the current page\n",
    "        matches = re.findall(pattern, text, re.DOTALL)\n",
    "\n",
    "        sections = []\n",
    "\n",
    "        for match in matches:\n",
    "            section_number = match[0]\n",
    "            section_title = match[1]\n",
    "            section_text = match[2].strip()\n",
    "\n",
    "            # Skip sections with specific keywords in section_text\n",
    "            if \"BART FACILITIES STANDARDS\" in section_text or \"ISSUED: APRIL 2018 PAGE\" in section_text:\n",
    "                continue\n",
    "\n",
    "            sections.append({\n",
    "                \"Section Number\": section_number,\n",
    "                \"Section Title\": section_title.strip(),\n",
    "                \"Section Text\": section_text\n",
    "            })\n",
    "\n",
    "        # Append sections from the current page to the list\n",
    "        all_sections.extend(sections)\n"
   ]
  },
  {
   "cell_type": "code",
   "execution_count": null,
   "id": "2b558837",
   "metadata": {},
   "outputs": [],
   "source": [
    "df2 = pd.DataFrame(all_sections)"
   ]
  },
  {
   "attachments": {},
   "cell_type": "markdown",
   "id": "cebc0ae4",
   "metadata": {},
   "source": [
    "# Step 5\n",
    "***"
   ]
  },
  {
   "attachments": {},
   "cell_type": "markdown",
   "id": "fc36984f",
   "metadata": {},
   "source": [
    "Create a excel file from the data frames:"
   ]
  },
  {
   "cell_type": "code",
   "execution_count": null,
   "id": "35fbce65",
   "metadata": {},
   "outputs": [],
   "source": [
    "excel_file = 'parsed.xlsx'\n",
    "#df.to_excel(excel_file, index=False)\n",
    "\n",
    "\n",
    "\n",
    "with pd.ExcelWriter(excel_file, engine='xlsxwriter') as writer:\n",
    "    \n",
    "    df1.to_excel(writer, sheet_name='Sheet1', startrow=0, startcol=8, index=False) \n",
    "    df2.to_excel(writer, sheet_name='Sheet1', startrow=5, startcol=2, index=False)\n",
    "    worksheet = writer.sheets['Sheet1']\n",
    "    worksheet.set_column('C:E', 15)\n",
    "    worksheet.set_column('I:J', 15)\n"
   ]
  }
 ],
 "metadata": {
  "kernelspec": {
   "display_name": "Python 3 (ipykernel)",
   "language": "python",
   "name": "python3"
  },
  "language_info": {
   "codemirror_mode": {
    "name": "ipython",
    "version": 3
   },
   "file_extension": ".py",
   "mimetype": "text/x-python",
   "name": "python",
   "nbconvert_exporter": "python",
   "pygments_lexer": "ipython3",
   "version": "3.8.8"
  }
 },
 "nbformat": 4,
 "nbformat_minor": 5
}
